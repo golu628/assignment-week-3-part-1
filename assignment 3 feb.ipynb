{
 "cells": [
  {
   "cell_type": "markdown",
   "id": "50bfdc79",
   "metadata": {},
   "source": [
    "1.def is used to create a function."
   ]
  },
  {
   "cell_type": "code",
   "execution_count": 4,
   "id": "7149123e",
   "metadata": {},
   "outputs": [],
   "source": [
    "#create a function to return a list of odd numbers in the range of (1,25)\n"
   ]
  },
  {
   "cell_type": "code",
   "execution_count": 13,
   "id": "83df6607",
   "metadata": {},
   "outputs": [
    {
     "name": "stdout",
     "output_type": "stream",
     "text": [
      "[1, 3, 5, 7, 9, 11, 13, 15, 17, 19, 21, 23]\n"
     ]
    }
   ],
   "source": [
    "def odd(i):\n",
    "    if i % 2 == 1:\n",
    "        return i\n",
    "\n",
    "l = []\n",
    "for i in range(0, 25):\n",
    "    if odd(i):\n",
    "        l.append(i)\n",
    "\n",
    "print(l)\n",
    "\n",
    "\n",
    "    "
   ]
  },
  {
   "cell_type": "markdown",
   "id": "fc6135e2",
   "metadata": {},
   "source": [
    "2.*ARGS is used to create a argument into unlimited number of tuples where as *kwargs is used to create an argument into dictionary."
   ]
  },
  {
   "cell_type": "code",
   "execution_count": null,
   "id": "9795390c",
   "metadata": {},
   "outputs": [],
   "source": [
    "#example of*args"
   ]
  },
  {
   "cell_type": "markdown",
   "id": "fafbdbbd",
   "metadata": {},
   "source": [
    "3.An iterator in Python is an object that can iterate over an iterable object like lists, tuples, dicts, and sets. The Python iterator object is initialized using the iter() method. It uses the next() method for iteration12.\n"
   ]
  },
  {
   "cell_type": "code",
   "execution_count": 2,
   "id": "581a6a14",
   "metadata": {},
   "outputs": [
    {
     "name": "stdout",
     "output_type": "stream",
     "text": [
      "2\n",
      "4\n",
      "6\n",
      "8\n",
      "10\n"
     ]
    }
   ],
   "source": [
    " numbers = [2,4,6,8,10,12,14,16,18,20]\n",
    "numbers_iter = iter(numbers)\n",
    "for i in range(5):\n",
    "    number = next(numbers_iter)\n",
    "    print(number)\n"
   ]
  },
  {
   "cell_type": "markdown",
   "id": "8c938109",
   "metadata": {},
   "source": [
    "4.A generator function in Python is a special type of function that allows you to generate a sequence of values on-the-fly rather than storing them in memory all at once. It uses the yield keyword instead of return to return values one at a time, suspending its state in between each value until the next value is requested.\n",
    "\n",
    "The yield keyword is used to temporarily return a value from the generator function while maintaining the function's state. When the generator function is called again, it resumes execution from where it left off, instead of starting from the beginning. This allows for efficient memory usage, especially when dealing with large sequences or infinite sequences.\n",
    "\n",
    "Here's an example of a generator function that generates Fibonacci numbers:\n",
    "\n",
    "python\n",
    "Copy code\n",
    "def fibonacci():\n",
    "    a, b = 0, 1\n",
    "    while True:\n",
    "        yield a\n",
    "        a, b = b, a + b\n",
    "fib_gen = fibonacci()\n",
    "for _ in range(10):\n",
    "    print(next(fib_gen))\n",
    "In this example, fibonacci() is a generator function that yields Fibonacci numbers one at a time. When fibonacci() is called, it returns a generator object fib_gen. We can then use next(fib_gen) to retrieve the next Fibonacci number in the sequence. The generator function continues to yield Fibonacci numbers indefinitely, only computing each number as needed, rather than all at once."
   ]
  },
  {
   "cell_type": "code",
   "execution_count": 6,
   "id": "9e7e5cc3",
   "metadata": {},
   "outputs": [
    {
     "name": "stdout",
     "output_type": "stream",
     "text": [
      "2\n",
      "3\n",
      "5\n",
      "7\n",
      "11\n",
      "13\n",
      "17\n",
      "19\n",
      "23\n",
      "29\n",
      "31\n",
      "37\n",
      "41\n",
      "43\n",
      "47\n",
      "53\n",
      "59\n",
      "61\n",
      "67\n",
      "71\n"
     ]
    }
   ],
   "source": [
    "#5.\n",
    "def is_prime(n):\n",
    "    if n <= 1:\n",
    "        return False\n",
    "    elif n <= 3:\n",
    "        return True\n",
    "    elif n % 2 == 0 or n % 3 == 0:\n",
    "        return False\n",
    "    i = 5\n",
    "    while i * i <= n:\n",
    "        if n % i == 0 or n % (i + 2) == 0:\n",
    "            return False\n",
    "        i += 6\n",
    "    return True\n",
    "\n",
    "def prime_generator():\n",
    "    num = 2\n",
    "    while num < 1000:\n",
    "        if is_prime(num):\n",
    "            yield num\n",
    "        num += 1\n",
    "\n",
    "# Print the first 20 prime numbers\n",
    "prime_gen = prime_generator()\n",
    "for _ in range(20):\n",
    "    print(next(prime_gen))\n",
    "\n"
   ]
  },
  {
   "cell_type": "code",
   "execution_count": 4,
   "id": "789fc114",
   "metadata": {},
   "outputs": [
    {
     "name": "stdout",
     "output_type": "stream",
     "text": [
      "0\n",
      "1\n",
      "1\n",
      "2\n",
      "3\n",
      "5\n",
      "8\n",
      "13\n",
      "21\n",
      "34\n"
     ]
    }
   ],
   "source": [
    "#6.\n",
    "def fibonacci():\n",
    "    a, b = 0, 1\n",
    "    fib_numbers = [a, b]\n",
    "    count = 2  # already 2 numbers (0 and 1)\n",
    "    while count < 10:\n",
    "        c = a + b\n",
    "        fib_numbers.append(c)\n",
    "        a, b = b, c\n",
    "        count += 1\n",
    "    return fib_numbers\n",
    "fib_sequence = fibonacci()\n",
    "for num in fib_sequence:\n",
    "    print(num)\n"
   ]
  },
  {
   "cell_type": "code",
   "execution_count": 1,
   "id": "73ae5b88",
   "metadata": {},
   "outputs": [
    {
     "name": "stdout",
     "output_type": "stream",
     "text": [
      "['p', 'w', 's', 'k', 'i', 'l', 'l', 's']\n"
     ]
    }
   ],
   "source": [
    "#7.\n",
    "s = 'pwskills'\n",
    "d = [g for g in s]\n",
    "print(d)"
   ]
  },
  {
   "cell_type": "code",
   "execution_count": 5,
   "id": "f3f7f8e0",
   "metadata": {},
   "outputs": [
    {
     "name": "stdout",
     "output_type": "stream",
     "text": [
      "Enter a number: 565\n",
      "565 is a palindrome\n"
     ]
    }
   ],
   "source": [
    "#8.\n",
    "def is_palindrome(num):\n",
    "    original_num = num\n",
    "    reverse_num = 0\n",
    "\n",
    "    while num > 0:\n",
    "        remainder = num % 10\n",
    "        reverse_num = (reverse_num * 10) + remainder\n",
    "        num = num // 10\n",
    "\n",
    "    return original_num == reverse_num\n",
    "\n",
    "# Test the function\n",
    "number = int(input(\"Enter a number: \"))\n",
    "if is_palindrome(number):\n",
    "    print(number, \"is a palindrome\")\n",
    "else:\n",
    "    print(number, \"is not a palindrome\")\n"
   ]
  },
  {
   "cell_type": "code",
   "execution_count": 2,
   "id": "1967aeae",
   "metadata": {},
   "outputs": [
    {
     "name": "stdout",
     "output_type": "stream",
     "text": [
      "[1, 3, 5, 7, 9, 11, 13, 15, 17, 19, 21, 23, 25, 27, 29, 31, 33, 35, 37, 39, 41, 43, 45, 47, 49, 51, 53, 55, 57, 59, 61, 63, 65, 67, 69, 71, 73, 75, 77, 79, 81, 83, 85, 87, 89, 91, 93, 95, 97, 99]\n"
     ]
    }
   ],
   "source": [
    "#9.create a list  of odd numbers from 1 to 100 using list comprehension\n",
    "n = [h for h in range(1,100) if h%2 == 1]\n",
    "print(n)\n",
    "#\n"
   ]
  }
 ],
 "metadata": {
  "kernelspec": {
   "display_name": "Python 3",
   "language": "python",
   "name": "python3"
  },
  "language_info": {
   "codemirror_mode": {
    "name": "ipython",
    "version": 3
   },
   "file_extension": ".py",
   "mimetype": "text/x-python",
   "name": "python",
   "nbconvert_exporter": "python",
   "pygments_lexer": "ipython3",
   "version": "3.8.8"
  }
 },
 "nbformat": 4,
 "nbformat_minor": 5
}
